{
 "cells": [
  {
   "attachments": {},
   "cell_type": "markdown",
   "metadata": {},
   "source": [
    "#### **FronzenLake**"
   ]
  },
  {
   "cell_type": "code",
   "execution_count": 3,
   "metadata": {},
   "outputs": [
    {
     "name": "stdout",
     "output_type": "stream",
     "text": [
      "Starting training...\n",
      "Episode:    0/100\t step:   12. Eps: 1.0, reward 1.0\n",
      "Episode:    1/100\t step:   17. Eps: 1.0, reward 1.0\n",
      "Episode:    2/100\t step:   18. Eps: 1.0, reward 1.0\n",
      "Episode:    3/100\t step:   16. Eps: 1.0, reward 1.0\n",
      "Episode:    4/100\t step:   26. Eps: 1.0, reward 1.0\n",
      "Episode:    5/100\t step:   16. Eps: 1.0, reward 1.0\n",
      "Episode:    6/100\t step:   30. Eps: 1.0, reward 1.0\n",
      "Episode:    7/100\t step:   21. Eps: 1.0, reward 1.0\n",
      "Episode:    8/100\t step:   52. Eps: 1.0, reward 1.0\n",
      "Episode:    9/100\t step:   10. Eps: 1.0, reward 1.0\n",
      "Episode:   10/100\t step:   49. Eps: 1.0, reward 1.0\n",
      "Episode:   11/100\t step:    9. Eps: 1.0, reward 1.0\n",
      "Episode:   12/100\t step:   13. Eps: 1.0, reward 1.0\n",
      "Episode:   13/100\t step:   10. Eps: 1.0, reward 1.0\n",
      "Episode:   14/100\t step:   11. Eps: 1.0, reward 1.0\n",
      "Episode:   15/100\t step:   24. Eps: 1.0, reward 1.0\n",
      "Episode:   16/100\t step:    9. Eps: 1.0, reward 1.0\n",
      "Episode:   17/100\t step:   10. Eps: 1.0, reward 1.0\n",
      "Episode:   18/100\t step:   15. Eps: 0.99, reward 1.0\n",
      "Episode:   19/100\t step:   30. Eps: 0.99, reward 1.0\n",
      "Episode:   20/100\t step:   81. Eps: 0.99, reward 1.0\n",
      "Episode:   21/100\t step:   18. Eps: 0.99, reward 1.0\n",
      "Episode:   22/100\t step:   17. Eps: 0.99, reward 1.0\n",
      "Episode:   23/100\t step:   25. Eps: 0.99, reward 1.0\n",
      "Episode:   24/100\t step:   25. Eps: 0.99, reward 1.0\n",
      "Episode:   25/100\t step:   16. Eps: 0.99, reward 1.0\n",
      "Episode:   26/100\t step:   13. Eps: 0.99, reward 1.0\n",
      "Episode:   27/100\t step:   36. Eps: 0.99, reward 1.0\n",
      "Episode:   28/100\t step:   20. Eps: 0.99, reward 1.0\n",
      "Episode:   29/100\t step:   25. Eps: 0.99, reward 1.0\n",
      "Episode:   30/100\t step:   16. Eps: 0.99, reward 1.0\n",
      "Episode:   31/100\t step:   14. Eps: 0.99, reward 1.0\n",
      "Episode:   32/100\t step:   76. Eps: 0.99, reward 1.0\n",
      "Episode:   33/100\t step:    9. Eps: 0.99, reward 1.0\n",
      "Episode:   34/100\t step:   11. Eps: 0.99, reward 1.0\n",
      "Episode:   35/100\t step:   25. Eps: 0.99, reward 1.0\n",
      "Episode:   36/100\t step:   11. Eps: 0.99, reward 1.0\n",
      "Episode:   37/100\t step:   12. Eps: 0.99, reward 1.0\n",
      "Episode:   38/100\t step:   23. Eps: 0.99, reward 1.0\n",
      "Episode:   39/100\t step:   29. Eps: 0.99, reward 1.0\n",
      "Episode:   40/100\t step:   18. Eps: 0.99, reward 1.0\n",
      "Episode:   41/100\t step:   34. Eps: 0.99, reward 1.0\n",
      "Episode:   42/100\t step:   19. Eps: 0.99, reward 1.0\n",
      "Episode:   43/100\t step:   32. Eps: 0.99, reward 1.0\n",
      "Episode:   44/100\t step:    8. Eps: 0.99, reward 1.0\n",
      "Episode:   45/100\t step:   12. Eps: 0.99, reward 1.0\n",
      "Episode:   46/100\t step:   32. Eps: 0.99, reward 1.0\n",
      "Episode:   47/100\t step:   16. Eps: 0.99, reward 1.0\n",
      "Episode:   48/100\t step:   30. Eps: 0.99, reward 1.0\n",
      "Episode:   49/100\t step:   23. Eps: 0.99, reward 1.0\n",
      "Episode:   50/100\t step:   64. Eps: 0.99, reward 1.0\n",
      "Episode:   51/100\t step:   13. Eps: 0.99, reward 1.0\n",
      "Episode:   52/100\t step:   31. Eps: 0.98, reward 1.0\n",
      "Episode:   53/100\t step:   13. Eps: 0.98, reward 1.0\n",
      "Episode:   54/100\t step:   33. Eps: 0.98, reward 1.0\n"
     ]
    }
   ],
   "source": [
    "!python ../main.py --env \"CartePole\" --algo \"DQN\" --mode \"train\" --output_dir \"../prebuilt/cartepole-v1/\" --batch_size 32 \\\n",
    "    --n_episodes 100 --max_steps 300 --verbose \"1\""
   ]
  },
  {
   "cell_type": "code",
   "execution_count": null,
   "metadata": {},
   "outputs": [],
   "source": [
    "!python main.py --env \"CartePole\" --algo \"DQN\" --mode \"test\" --model_path \"prebuilt/prebuilt/cartepole-v1/weights_0100.weights.h5\" \\\n",
    "    --test_episodes 5  --verbose \"0\""
   ]
  },
  {
   "cell_type": "code",
   "execution_count": null,
   "metadata": {},
   "outputs": [],
   "source": []
  }
 ],
 "metadata": {
  "kernelspec": {
   "display_name": "base",
   "language": "python",
   "name": "python3"
  },
  "language_info": {
   "codemirror_mode": {
    "name": "ipython",
    "version": 3
   },
   "file_extension": ".py",
   "mimetype": "text/x-python",
   "name": "python",
   "nbconvert_exporter": "python",
   "pygments_lexer": "ipython3",
   "version": "3.11.8"
  },
  "orig_nbformat": 4
 },
 "nbformat": 4,
 "nbformat_minor": 2
}
