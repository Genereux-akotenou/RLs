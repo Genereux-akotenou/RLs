{
 "cells": [
  {
   "attachments": {},
   "cell_type": "markdown",
   "metadata": {},
   "source": [
    "#### **CartePole**"
   ]
  },
  {
   "cell_type": "code",
   "execution_count": 28,
   "metadata": {},
   "outputs": [
    {
     "name": "stdout",
     "output_type": "stream",
     "text": [
      "Starting training...\n",
      "Train : 100%|█████████████████████████████| 2000/2000 [1:45:27<00:00,  3.16s/it]\n",
      "Train mean % score = 5221.4\n",
      "Training completed. Model saved to ../prebuilt/cartepole-v1/\n"
     ]
    }
   ],
   "source": [
    "!python ../main.py --env \"CartPole\" --algo \"DQN\" --mode \"train\" --output_dir \"../prebuilt/cartepole-v1/\" --batch_size 32 \\\n",
    "    --n_episodes 2000 --max_steps 200 --verbose 0"
   ]
  },
  {
   "cell_type": "code",
   "execution_count": 2,
   "metadata": {},
   "outputs": [
    {
     "name": "stdout",
     "output_type": "stream",
     "text": [
      "Starting testing...\n",
      "Test : 100%|████████████████████████████████████| 10/10 [02:02<00:00, 12.26s/it]\n",
      "Test mean % score = 28600\n",
      "Testing completed.\n",
      "Figure(1000x600)\n"
     ]
    }
   ],
   "source": [
    "!python ../main.py --env \"CartPole\" --algo \"DQN\" --mode \"test\" --model_path \"../prebuilt/cartepole-v1/weights_1950.weights.h5\" \\\n",
    "    --test_episodes 10 --verbose 0"
   ]
  },
  {
   "cell_type": "code",
   "execution_count": null,
   "metadata": {},
   "outputs": [],
   "source": []
  }
 ],
 "metadata": {
  "kernelspec": {
   "display_name": "base",
   "language": "python",
   "name": "python3"
  },
  "language_info": {
   "codemirror_mode": {
    "name": "ipython",
    "version": 3
   },
   "file_extension": ".py",
   "mimetype": "text/x-python",
   "name": "python",
   "nbconvert_exporter": "python",
   "pygments_lexer": "ipython3",
   "version": "3.11.8"
  },
  "orig_nbformat": 4
 },
 "nbformat": 4,
 "nbformat_minor": 2
}
