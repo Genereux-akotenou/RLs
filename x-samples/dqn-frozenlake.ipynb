{
 "cells": [
  {
   "attachments": {},
   "cell_type": "markdown",
   "metadata": {},
   "source": [
    "#### **FronzenLake**"
   ]
  },
  {
   "attachments": {},
   "cell_type": "markdown",
   "metadata": {},
   "source": [
    "##### **4x4**"
   ]
  },
  {
   "cell_type": "code",
   "execution_count": 6,
   "metadata": {},
   "outputs": [
    {
     "name": "stdout",
     "output_type": "stream",
     "text": [
      "Starting testing...\n",
      "******* EPISODE 1 *******\n",
      "Episode Reward: 1.0\n",
      "******* EPISODE 2 *******\n",
      "Episode Reward: 1.0\n",
      "******* EPISODE 3 *******\n",
      "Episode Reward: 1.0\n",
      "Test mean % score = 100\n",
      "Testing completed.\n",
      "Figure(1000x600)\n"
     ]
    }
   ],
   "source": [
    "!python ../main.py --env \"FrozenLake\" --algo \"DQN\" --mode \"test\" --model_path \"../prebuilt/frozenlake-v1/weights_0150.weights.h5\" --test_episodes 3 --verbose 1"
   ]
  },
  {
   "cell_type": "markdown",
   "metadata": {},
   "source": [
    "##### **5x5**"
   ]
  },
  {
   "cell_type": "code",
   "execution_count": 10,
   "metadata": {},
   "outputs": [
    {
     "name": "stdout",
     "output_type": "stream",
     "text": [
      "Starting training...\n",
      "Train : 100%|███████████████████████████████| 1000/1000 [41:05<00:00,  2.47s/it]\n",
      "Train mean % score = 1.1\n",
      "Training completed. Model saved to ../prebuilt/frozenlake-v1-5x5/\n",
      "Environment 'FrozenLake' not supported.\n"
     ]
    }
   ],
   "source": [
    "!python ../main.py --env \"FrozenLake\" --algo \"DQN\" --mode \"train\" --output_dir \"../prebuilt/frozenlake-v1-5x5/\" \\\n",
    "    --map \"SFFHF\" \"HFHFF\" \"HFFFH\" \"HHHFH\" \"HFFFG\" \\\n",
    "    --batch_size 32 --n_episodes 1000 --max_steps 300 --verbose 0"
   ]
  },
  {
   "cell_type": "code",
   "execution_count": 13,
   "metadata": {},
   "outputs": [
    {
     "name": "stdout",
     "output_type": "stream",
     "text": [
      "Starting testing...\n",
      "Test : 100%|██████████████████████████████████████| 3/3 [00:13<00:00,  4.51s/it]\n",
      "Test mean % score = 100\n",
      "Testing completed.\n",
      "Figure(1000x600)\n"
     ]
    }
   ],
   "source": [
    "!python ../main.py --env \"FrozenLake\" --algo \"DQN\" --mode \"test\" --model_path \"../prebuilt/frozenlake-v1-5x5/weights_0950.weights.h5\" \\\n",
    "    --map \"SFFHF\" \"HFHFF\" \"HFFFH\" \"HHHFH\" \"HFFFG\" \\\n",
    "    --test_episodes 3  --verbose 0"
   ]
  },
  {
   "cell_type": "markdown",
   "metadata": {},
   "source": [
    "##### **8x8**"
   ]
  },
  {
   "cell_type": "code",
   "execution_count": 2,
   "metadata": {},
   "outputs": [
    {
     "name": "stdout",
     "output_type": "stream",
     "text": [
      "Starting training...\n",
      "Train : 100%|█████████████████████████████| 2000/2000 [2:52:56<00:00,  5.19s/it]\n",
      "Train mean % score = 17.3\n",
      "Training completed. Model saved to ../prebuilt/frozenlake-v1-8x8/\n"
     ]
    }
   ],
   "source": [
    "!python ../main.py --env \"FrozenLake\" --algo \"DQN\" --mode \"train\" --output_dir \"../prebuilt/frozenlake-v1-8x8/\" \\\n",
    "    --map \"SFFFHFFF\" \"FHFHFFHF\" \"FFFHFFFF\" \"FHFFFHFF\" \"FFFFHFFF\" \"FHFHFFFF\" \"FHFHFHFF\" \"FFFFFHFG\" \\\n",
    "    --batch_size 64 --n_episodes 2000 --max_steps 300 --verbose 0 \\\n",
    "    --hole_position 4 9 11 14 19 25 29 36 41 43 49 51 53 61"
   ]
  },
  {
   "cell_type": "code",
   "execution_count": 7,
   "metadata": {},
   "outputs": [
    {
     "name": "stdout",
     "output_type": "stream",
     "text": [
      "Starting testing...\n",
      "Test : 100%|██████████████████████████████████████| 3/3 [00:25<00:00,  8.51s/it]\n",
      "Test mean % score = 100\n",
      "Testing completed.\n",
      "Figure(1000x600)\n"
     ]
    }
   ],
   "source": [
    "!python ../main.py --env \"FrozenLake\" --algo \"DQN\" --mode \"test\" --model_path \"../prebuilt/frozenlake-v1-8x8/weights_1950.weights.h5\" \\\n",
    "    --map \"SFFFHFFF\" \"FHFHFFHF\" \"FFFHFFFF\" \"FHFFFHFF\" \"FFFFHFFF\" \"FHFHFFFF\" \"FHFHFHFF\" \"FFFFFHFG\" \\\n",
    "    --test_episodes 3  --verbose 0"
   ]
  },
  {
   "cell_type": "code",
   "execution_count": null,
   "metadata": {},
   "outputs": [],
   "source": []
  }
 ],
 "metadata": {
  "kernelspec": {
   "display_name": "base",
   "language": "python",
   "name": "python3"
  },
  "language_info": {
   "codemirror_mode": {
    "name": "ipython",
    "version": 3
   },
   "file_extension": ".py",
   "mimetype": "text/x-python",
   "name": "python",
   "nbconvert_exporter": "python",
   "pygments_lexer": "ipython3",
   "version": "3.11.8"
  },
  "orig_nbformat": 4
 },
 "nbformat": 4,
 "nbformat_minor": 2
}
