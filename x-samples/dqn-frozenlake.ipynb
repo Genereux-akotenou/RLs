{
 "cells": [
  {
   "attachments": {},
   "cell_type": "markdown",
   "metadata": {},
   "source": [
    "#### **FronzenLake**"
   ]
  },
  {
   "cell_type": "code",
   "execution_count": 8,
   "metadata": {},
   "outputs": [
    {
     "name": "stdout",
     "output_type": "stream",
     "text": [
      "Starting testing...\n",
      "Test : 100%|██████████████████████████████████████| 3/3 [00:10<00:00,  3.48s/it]\n",
      "Test mean % score = 100\n",
      "Testing completed.\n",
      "Figure(1000x600)\n",
      "Environment 'FrozenLake' not supported.\n"
     ]
    }
   ],
   "source": [
    "!python ../main.py --env \"FrozenLake\" --algo \"DQN\" --mode \"test\" --model_path \"../prebuilt/frozenlake-v1/weights_0150.weights.h5\" --test_episodes 3 --verbose \"1\""
   ]
  },
  {
   "cell_type": "code",
   "execution_count": 1,
   "metadata": {},
   "outputs": [
    {
     "name": "stdout",
     "output_type": "stream",
     "text": [
      "Starting training...\n",
      "Train :  25%|███████▉                        | 249/1000 [11:03<32:56,  2.63s/it]"
     ]
    }
   ],
   "source": [
    "!python ../main.py --env \"FrozenLake\" --algo \"DQN\" --mode \"train\" --output_dir \"../prebuilt/frozenlake-v1-8x8/\" \\\n",
    "    --map \"SFFFSFFF\" \"FHFHFFHF\" \"FFFHFFFF\" \"FHFFFHFF\" \"FFFFHFFF\" \"FHFHFFFF\" \"FHFHFHFF\" \"FFFFFHFG\" \\\n",
    "    --batch_size 32 --n_episodes 1000 --max_steps 300 --verbose \"0\""
   ]
  },
  {
   "cell_type": "code",
   "execution_count": null,
   "metadata": {},
   "outputs": [],
   "source": [
    "!python ../main.py --env \"FrozenLake\" --algo \"DQN\" --mode \"test\" --model_path \"../prebuilt/frozenlake-v1-8x8/weights_0450.weights.h5\" \\\n",
    "    --map \"SFFFSFFF\" \"FHFHFFHF\" \"FFFHFFFF\" \"FHFFFHFF\" \"FFFFHFFF\" \"FHFHFFFF\" \"FHFHFHFF\" \"FFFFFHFG\" \\\n",
    "    --test_episodes 3  --verbose \"0\""
   ]
  }
 ],
 "metadata": {
  "kernelspec": {
   "display_name": "base",
   "language": "python",
   "name": "python3"
  },
  "language_info": {
   "codemirror_mode": {
    "name": "ipython",
    "version": 3
   },
   "file_extension": ".py",
   "mimetype": "text/x-python",
   "name": "python",
   "nbconvert_exporter": "python",
   "pygments_lexer": "ipython3",
   "version": "3.11.8"
  },
  "orig_nbformat": 4
 },
 "nbformat": 4,
 "nbformat_minor": 2
}
