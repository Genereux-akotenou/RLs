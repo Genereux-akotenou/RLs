{
 "cells": [
  {
   "attachments": {},
   "cell_type": "markdown",
   "metadata": {},
   "source": [
    "#### **CartPole - QLearning**"
   ]
  },
  {
   "cell_type": "markdown",
   "metadata": {},
   "source": [
    "##### **4x4**"
   ]
  },
  {
   "cell_type": "code",
   "execution_count": 3,
   "metadata": {},
   "outputs": [
    {
     "name": "stdout",
     "output_type": "stream",
     "text": [
      "QL-Train :   0%|                                       | 0/5000 [00:00<?, ?it/s]\n",
      "Traceback (most recent call last):\n",
      "  File \"/Users/genereux/Documents/UM6P/COURS-S3/REINFORCEMENT-LEARNING/RLs/x-samples/../main.py\", line 49, in <module>\n",
      "    game.train(args.output_dir)\n",
      "  File \"/Users/genereux/Documents/UM6P/COURS-S3/REINFORCEMENT-LEARNING/RLs/environments/cartpole.py\", line 108, in train\n",
      "    self.agent.update_q_table(state, action, reward, next_state)\n",
      "  File \"/Users/genereux/Documents/UM6P/COURS-S3/REINFORCEMENT-LEARNING/RLs/algorithms/QLearning/agent.py\", line 41, in update_q_table\n",
      "    self.q_table[state, action] = self.q_table[state, action] + self.learning_rate * (reward + self.gamma * np.max(self.q_table[next_state, :]) - self.q_table[state, action])\n",
      "                                  ~~~~~~~~~~~~^^^^^^^^^^^^^^^\n",
      "IndexError: arrays used as indices must be of integer (or boolean) type\n"
     ]
    }
   ],
   "source": [
    "!python ../main.py --env \"CartPole\" --algo \"QLearning\" --mode \"train\" --output_dir \"../prebuilt/cartpole-ql/\" \\\n",
    "    --map \"SFFF\" \"FHFH\" \"FFFH\" \"HFFG\" --n_episodes 5000 --max_steps 100 --verbose 0 \\\n",
    "    --hole_position 5 7 11 12"
   ]
  },
  {
   "cell_type": "code",
   "execution_count": 24,
   "metadata": {},
   "outputs": [
    {
     "name": "stdout",
     "output_type": "stream",
     "text": [
      "Starting testing...\n",
      "Q-table successfully loaded from ../prebuilt/frozenlake-v1-ql/q_table.npy.\n",
      "Test : 100%|██████████████████████████████████████| 3/3 [00:10<00:00,  3.51s/it]\n",
      "Test mean % score = 100\n",
      "Testing completed.\n",
      "Figure(1000x600)\n"
     ]
    }
   ],
   "source": [
    "!python ../main.py --env \"FrozenLake\" --algo \"QLearning\" --mode \"test\" --model_path \"../prebuilt/cartpole-ql/q_table.npy\" \\\n",
    "    --map \"SFFF\" \"FHFH\" \"FFFH\" \"HFFG\" --test_episodes 3 --verbose 0"
   ]
  },
  {
   "cell_type": "markdown",
   "metadata": {},
   "source": [
    "##### **8x8**"
   ]
  },
  {
   "cell_type": "code",
   "execution_count": 15,
   "metadata": {},
   "outputs": [
    {
     "name": "stdout",
     "output_type": "stream",
     "text": [
      "QL-Train : 100%|████████████████████████| 50000/50000 [00:05<00:00, 8839.33it/s]\n",
      "Score over time: 0.91004\n",
      "Q-table successfully saved to ../prebuilt/frozenlake-v1-ql-8x8/q_table.npy.\n"
     ]
    }
   ],
   "source": [
    "!python ../main.py --env \"FrozenLake\" --algo \"QLearning\" --mode \"train\" --output_dir \"../prebuilt/frozenlake-v1-ql-8x8/\" \\\n",
    "    --map \"SFFFHFFF\" \"FHFHFFHF\" \"FFFHFFFF\" \"FHFFFHFF\" \"FFFFHFFF\" \"FHFHFFFF\" \"FHFHFHFF\" \"FFFFFHFG\" \\\n",
    "    --n_episodes 50000 --max_steps 100 --verbose 0 \\\n",
    "    --hole_position 4 9 11 14 19 25 29 36 41 43 49 51 53 61"
   ]
  },
  {
   "cell_type": "code",
   "execution_count": 16,
   "metadata": {},
   "outputs": [
    {
     "name": "stdout",
     "output_type": "stream",
     "text": [
      "Starting testing...\n",
      "Q-table successfully loaded from ../prebuilt/frozenlake-v1-ql-8x8/q_table.npy.\n",
      "Test : 100%|██████████████████████████████████████| 1/1 [00:10<00:00, 10.02s/it]\n",
      "Test mean % score = 100\n",
      "Testing completed.\n",
      "Figure(1000x600)\n"
     ]
    }
   ],
   "source": [
    "!python ../main.py --env \"FrozenLake\" --algo \"QLearning\" --mode \"test\" --model_path \"../prebuilt/frozenlake-v1-ql-8x8/q_table.npy\" \\\n",
    "    --map \"SFFFHFFF\" \"FHFHFFHF\" \"FFFHFFFF\" \"FHFFFHFF\" \"FFFFHFFF\" \"FHFHFFFF\" \"FHFHFHFF\" \"FFFFFHFG\" \\\n",
    "    --test_episodes 1 --max_steps 20 --verbose 0"
   ]
  },
  {
   "cell_type": "code",
   "execution_count": null,
   "metadata": {},
   "outputs": [],
   "source": []
  }
 ],
 "metadata": {
  "kernelspec": {
   "display_name": "base",
   "language": "python",
   "name": "python3"
  },
  "language_info": {
   "codemirror_mode": {
    "name": "ipython",
    "version": 3
   },
   "file_extension": ".py",
   "mimetype": "text/x-python",
   "name": "python",
   "nbconvert_exporter": "python",
   "pygments_lexer": "ipython3",
   "version": "3.11.8"
  },
  "orig_nbformat": 4
 },
 "nbformat": 4,
 "nbformat_minor": 2
}
