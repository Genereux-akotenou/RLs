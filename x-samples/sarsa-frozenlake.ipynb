{
 "cells": [
  {
   "attachments": {},
   "cell_type": "markdown",
   "metadata": {},
   "source": [
    "#### **FronzenLake - QLearning**"
   ]
  },
  {
   "cell_type": "markdown",
   "metadata": {},
   "source": [
    "##### **4x4**"
   ]
  },
  {
   "cell_type": "code",
   "execution_count": 10,
   "metadata": {},
   "outputs": [
    {
     "name": "stdout",
     "output_type": "stream",
     "text": [
      "oooo\n",
      "SARSA-Train : 100%|██████████████████████| 5000/5000 [00:00<00:00, 21970.50it/s]\n",
      "Score over time: 0.0\n",
      "Q-table successfully saved to ../prebuilt/frozenlake-v1-sarsa/q_table.npy.\n"
     ]
    }
   ],
   "source": [
    "!python ../main.py --env \"FrozenLake\" --algo \"SARSA\" --mode \"train\" --output_dir \"../prebuilt/frozenlake-v1-sarsa/\" \\\n",
    "    --map \"SFFF\" \"FHFH\" \"FFFH\" \"HFFG\" --n_episodes 5000 --max_steps 10 --verbose 0 \\\n",
    "    --hole_position 5 7 11 12"
   ]
  },
  {
   "cell_type": "code",
   "execution_count": 11,
   "metadata": {},
   "outputs": [
    {
     "name": "stdout",
     "output_type": "stream",
     "text": [
      "Starting testing...\n",
      "Q-table successfully loaded from ../prebuilt/frozenlake-v1-sarsa/q_table.npy.\n",
      "Test : 100%|██████████████████████████████████████| 1/1 [00:06<00:00,  6.05s/it]\n",
      "Test mean % score = 0\n",
      "Testing completed.\n",
      "Figure(1000x600)\n"
     ]
    }
   ],
   "source": [
    "!python ../main.py --env \"FrozenLake\" --algo \"SARSA\" --mode \"test\" --model_path \"../prebuilt/frozenlake-v1-sarsa/q_table.npy\" \\\n",
    "    --map \"SFFF\" \"FHFH\" \"FFFH\" \"HFFG\" --test_episodes 1 --max_steps 10 --verbose 0"
   ]
  },
  {
   "cell_type": "code",
   "execution_count": null,
   "metadata": {},
   "outputs": [],
   "source": []
  }
 ],
 "metadata": {
  "kernelspec": {
   "display_name": ".rl_env",
   "language": "python",
   "name": "python3"
  },
  "language_info": {
   "codemirror_mode": {
    "name": "ipython",
    "version": 3
   },
   "file_extension": ".py",
   "mimetype": "text/x-python",
   "name": "python",
   "nbconvert_exporter": "python",
   "pygments_lexer": "ipython3",
   "version": "3.11.8"
  },
  "orig_nbformat": 4
 },
 "nbformat": 4,
 "nbformat_minor": 2
}
