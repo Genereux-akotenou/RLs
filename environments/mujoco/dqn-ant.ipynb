{
 "cells": [
  {
   "cell_type": "code",
   "execution_count": 1,
   "metadata": {},
   "outputs": [
    {
     "name": "stdout",
     "output_type": "stream",
     "text": [
      "Requirement already satisfied: mujoco in /Users/genereux/Documents/UM6P/COURS-S3/REINFORCEMENT-LEARNING/RLs/.rl_env/lib/python3.11/site-packages (3.2.6)\n",
      "Requirement already satisfied: absl-py in /Users/genereux/Documents/UM6P/COURS-S3/REINFORCEMENT-LEARNING/RLs/.rl_env/lib/python3.11/site-packages (from mujoco) (2.1.0)\n",
      "Requirement already satisfied: etils[epath] in /Users/genereux/Documents/UM6P/COURS-S3/REINFORCEMENT-LEARNING/RLs/.rl_env/lib/python3.11/site-packages (from mujoco) (1.11.0)\n",
      "Requirement already satisfied: glfw in /Users/genereux/Documents/UM6P/COURS-S3/REINFORCEMENT-LEARNING/RLs/.rl_env/lib/python3.11/site-packages (from mujoco) (2.8.0)\n",
      "Requirement already satisfied: numpy in /Users/genereux/Documents/UM6P/COURS-S3/REINFORCEMENT-LEARNING/RLs/.rl_env/lib/python3.11/site-packages (from mujoco) (1.26.4)\n",
      "Requirement already satisfied: pyopengl in /Users/genereux/Documents/UM6P/COURS-S3/REINFORCEMENT-LEARNING/RLs/.rl_env/lib/python3.11/site-packages (from mujoco) (3.1.7)\n",
      "Requirement already satisfied: fsspec in /Users/genereux/Documents/UM6P/COURS-S3/REINFORCEMENT-LEARNING/RLs/.rl_env/lib/python3.11/site-packages (from etils[epath]->mujoco) (2024.12.0)\n",
      "Requirement already satisfied: importlib_resources in /Users/genereux/Documents/UM6P/COURS-S3/REINFORCEMENT-LEARNING/RLs/.rl_env/lib/python3.11/site-packages (from etils[epath]->mujoco) (6.4.5)\n",
      "Requirement already satisfied: typing_extensions in /Users/genereux/Documents/UM6P/COURS-S3/REINFORCEMENT-LEARNING/RLs/.rl_env/lib/python3.11/site-packages (from etils[epath]->mujoco) (4.12.2)\n",
      "Requirement already satisfied: zipp in /Users/genereux/Documents/UM6P/COURS-S3/REINFORCEMENT-LEARNING/RLs/.rl_env/lib/python3.11/site-packages (from etils[epath]->mujoco) (3.21.0)\n",
      "\n",
      "\u001b[1m[\u001b[0m\u001b[34;49mnotice\u001b[0m\u001b[1;39;49m]\u001b[0m\u001b[39;49m A new release of pip is available: \u001b[0m\u001b[31;49m24.0\u001b[0m\u001b[39;49m -> \u001b[0m\u001b[32;49m24.3.1\u001b[0m\n",
      "\u001b[1m[\u001b[0m\u001b[34;49mnotice\u001b[0m\u001b[1;39;49m]\u001b[0m\u001b[39;49m To update, run: \u001b[0m\u001b[32;49mpip install --upgrade pip\u001b[0m\n"
     ]
    }
   ],
   "source": [
    "!pip install mujoco"
   ]
  },
  {
   "cell_type": "code",
   "execution_count": 2,
   "metadata": {},
   "outputs": [
    {
     "ename": "RuntimeError",
     "evalue": "`launch_passive` requires that the Python script be run under `mjpython` on macOS",
     "output_type": "error",
     "traceback": [
      "\u001b[0;31m---------------------------------------------------------------------------\u001b[0m",
      "\u001b[0;31mRuntimeError\u001b[0m                              Traceback (most recent call last)",
      "Cell \u001b[0;32mIn[2], line 9\u001b[0m\n\u001b[1;32m      6\u001b[0m m \u001b[38;5;241m=\u001b[39m mujoco\u001b[38;5;241m.\u001b[39mMjModel\u001b[38;5;241m.\u001b[39mfrom_xml_path(\u001b[38;5;124m'\u001b[39m\u001b[38;5;124m./model/car/car.xml\u001b[39m\u001b[38;5;124m'\u001b[39m)\n\u001b[1;32m      7\u001b[0m d \u001b[38;5;241m=\u001b[39m mujoco\u001b[38;5;241m.\u001b[39mMjData(m)\n\u001b[0;32m----> 9\u001b[0m \u001b[38;5;28;01mwith\u001b[39;00m \u001b[43mmujoco\u001b[49m\u001b[38;5;241;43m.\u001b[39;49m\u001b[43mviewer\u001b[49m\u001b[38;5;241;43m.\u001b[39;49m\u001b[43mlaunch_passive\u001b[49m\u001b[43m(\u001b[49m\u001b[43mm\u001b[49m\u001b[43m,\u001b[49m\u001b[43m \u001b[49m\u001b[43md\u001b[49m\u001b[43m)\u001b[49m \u001b[38;5;28;01mas\u001b[39;00m viewer:\n\u001b[1;32m     10\u001b[0m   \u001b[38;5;66;03m# Close the viewer automatically after 30 wall-seconds.\u001b[39;00m\n\u001b[1;32m     11\u001b[0m   start \u001b[38;5;241m=\u001b[39m time\u001b[38;5;241m.\u001b[39mtime()\n\u001b[1;32m     12\u001b[0m   \u001b[38;5;28;01mwhile\u001b[39;00m viewer\u001b[38;5;241m.\u001b[39mis_running() \u001b[38;5;129;01mand\u001b[39;00m time\u001b[38;5;241m.\u001b[39mtime() \u001b[38;5;241m-\u001b[39m start \u001b[38;5;241m<\u001b[39m \u001b[38;5;241m30\u001b[39m:\n",
      "File \u001b[0;32m~/Documents/UM6P/COURS-S3/REINFORCEMENT-LEARNING/RLs/.rl_env/lib/python3.11/site-packages/mujoco/viewer.py:481\u001b[0m, in \u001b[0;36mlaunch_passive\u001b[0;34m(model, data, key_callback, show_left_ui, show_right_ui)\u001b[0m\n\u001b[1;32m    479\u001b[0m \u001b[38;5;28;01melse\u001b[39;00m:\n\u001b[1;32m    480\u001b[0m   \u001b[38;5;28;01mif\u001b[39;00m \u001b[38;5;129;01mnot\u001b[39;00m \u001b[38;5;28misinstance\u001b[39m(_MJPYTHON, _MjPythonBase):\n\u001b[0;32m--> 481\u001b[0m     \u001b[38;5;28;01mraise\u001b[39;00m \u001b[38;5;167;01mRuntimeError\u001b[39;00m(\n\u001b[1;32m    482\u001b[0m         \u001b[38;5;124m'\u001b[39m\u001b[38;5;124m`launch_passive` requires that the Python script be run under \u001b[39m\u001b[38;5;124m'\u001b[39m\n\u001b[1;32m    483\u001b[0m         \u001b[38;5;124m'\u001b[39m\u001b[38;5;124m`mjpython` on macOS\u001b[39m\u001b[38;5;124m'\u001b[39m)\n\u001b[1;32m    484\u001b[0m   _MJPYTHON\u001b[38;5;241m.\u001b[39mlaunch_on_ui_thread(\n\u001b[1;32m    485\u001b[0m       model,\n\u001b[1;32m    486\u001b[0m       data,\n\u001b[0;32m   (...)\u001b[0m\n\u001b[1;32m    490\u001b[0m       show_right_ui,\n\u001b[1;32m    491\u001b[0m   )\n\u001b[1;32m    493\u001b[0m \u001b[38;5;28;01mreturn\u001b[39;00m handle_return\u001b[38;5;241m.\u001b[39mget()\n",
      "\u001b[0;31mRuntimeError\u001b[0m: `launch_passive` requires that the Python script be run under `mjpython` on macOS"
     ]
    }
   ],
   "source": [
    "import time\n",
    "\n",
    "import mujoco\n",
    "import mujoco.viewer\n",
    "\n",
    "m = mujoco.MjModel.from_xml_path('./model/car/car.xml')\n",
    "d = mujoco.MjData(m)\n",
    "\n",
    "with mujoco.viewer.launch_passive(m, d) as viewer:\n",
    "  # Close the viewer automatically after 30 wall-seconds.\n",
    "  start = time.time()\n",
    "  while viewer.is_running() and time.time() - start < 30:\n",
    "    step_start = time.time()\n",
    "\n",
    "    # mj_step can be replaced with code that also evaluates\n",
    "    # a policy and applies a control signal before stepping the physics.\n",
    "    mujoco.mj_step(m, d)\n",
    "\n",
    "    # Example modification of a viewer option: toggle contact points every two seconds.\n",
    "    with viewer.lock():\n",
    "      viewer.opt.flags[mujoco.mjtVisFlag.mjVIS_CONTACTPOINT] = int(d.time % 2)\n",
    "\n",
    "    # Pick up changes to the physics state, apply perturbations, update options from GUI.\n",
    "    viewer.sync()\n",
    "\n",
    "    # Rudimentary time keeping, will drift relative to wall clock.\n",
    "    time_until_next_step = m.opt.timestep - (time.time() - step_start)\n",
    "    if time_until_next_step > 0:\n",
    "      time.sleep(time_until_next_step)"
   ]
  },
  {
   "cell_type": "code",
   "execution_count": null,
   "metadata": {},
   "outputs": [],
   "source": []
  },
  {
   "cell_type": "code",
   "execution_count": null,
   "metadata": {},
   "outputs": [],
   "source": []
  },
  {
   "cell_type": "code",
   "execution_count": null,
   "metadata": {},
   "outputs": [],
   "source": []
  },
  {
   "cell_type": "code",
   "execution_count": 8,
   "metadata": {},
   "outputs": [
    {
     "name": "stdout",
     "output_type": "stream",
     "text": [
      "Collecting mujoco==2.3.0\n",
      "  Using cached mujoco-2.3.0.tar.gz (144 kB)\n",
      "  Preparing metadata (setup.py) ... \u001b[?25ldone\n",
      "\u001b[?25hRequirement already satisfied: absl-py in /Users/genereux/Documents/UM6P/COURS-S3/REINFORCEMENT-LEARNING/RLs/.rl_env/lib/python3.11/site-packages (from mujoco==2.3.0) (2.1.0)\n",
      "Requirement already satisfied: glfw in /Users/genereux/Documents/UM6P/COURS-S3/REINFORCEMENT-LEARNING/RLs/.rl_env/lib/python3.11/site-packages (from mujoco==2.3.0) (2.8.0)\n",
      "Requirement already satisfied: numpy in /Users/genereux/Documents/UM6P/COURS-S3/REINFORCEMENT-LEARNING/RLs/.rl_env/lib/python3.11/site-packages (from mujoco==2.3.0) (1.26.4)\n",
      "Requirement already satisfied: pyopengl in /Users/genereux/Documents/UM6P/COURS-S3/REINFORCEMENT-LEARNING/RLs/.rl_env/lib/python3.11/site-packages (from mujoco==2.3.0) (3.1.7)\n",
      "Building wheels for collected packages: mujoco\n",
      "  Building wheel for mujoco (setup.py) ... \u001b[?25lerror\n",
      "  \u001b[1;31merror\u001b[0m: \u001b[1msubprocess-exited-with-error\u001b[0m\n",
      "  \n",
      "  \u001b[31m×\u001b[0m \u001b[32mpython setup.py bdist_wheel\u001b[0m did not run successfully.\n",
      "  \u001b[31m│\u001b[0m exit code: \u001b[1;36m1\u001b[0m\n",
      "  \u001b[31m╰─>\u001b[0m \u001b[31m[60 lines of output]\u001b[0m\n",
      "  \u001b[31m   \u001b[0m running bdist_wheel\n",
      "  \u001b[31m   \u001b[0m running build\n",
      "  \u001b[31m   \u001b[0m running build_py\n",
      "  \u001b[31m   \u001b[0m creating build\n",
      "  \u001b[31m   \u001b[0m creating build/lib.macosx-11.0-arm64-cpython-311\n",
      "  \u001b[31m   \u001b[0m creating build/lib.macosx-11.0-arm64-cpython-311/mujoco\n",
      "  \u001b[31m   \u001b[0m copying mujoco/__init__.py -> build/lib.macosx-11.0-arm64-cpython-311/mujoco\n",
      "  \u001b[31m   \u001b[0m copying mujoco/rollout.py -> build/lib.macosx-11.0-arm64-cpython-311/mujoco\n",
      "  \u001b[31m   \u001b[0m copying mujoco/rollout_test.py -> build/lib.macosx-11.0-arm64-cpython-311/mujoco\n",
      "  \u001b[31m   \u001b[0m copying mujoco/bindings_test.py -> build/lib.macosx-11.0-arm64-cpython-311/mujoco\n",
      "  \u001b[31m   \u001b[0m copying mujoco/render_test.py -> build/lib.macosx-11.0-arm64-cpython-311/mujoco\n",
      "  \u001b[31m   \u001b[0m creating build/lib.macosx-11.0-arm64-cpython-311/mujoco/egl\n",
      "  \u001b[31m   \u001b[0m copying mujoco/egl/__init__.py -> build/lib.macosx-11.0-arm64-cpython-311/mujoco/egl\n",
      "  \u001b[31m   \u001b[0m copying mujoco/egl/egl_ext.py -> build/lib.macosx-11.0-arm64-cpython-311/mujoco/egl\n",
      "  \u001b[31m   \u001b[0m creating build/lib.macosx-11.0-arm64-cpython-311/mujoco/osmesa\n",
      "  \u001b[31m   \u001b[0m copying mujoco/osmesa/__init__.py -> build/lib.macosx-11.0-arm64-cpython-311/mujoco/osmesa\n",
      "  \u001b[31m   \u001b[0m creating build/lib.macosx-11.0-arm64-cpython-311/mujoco/glfw\n",
      "  \u001b[31m   \u001b[0m copying mujoco/glfw/__init__.py -> build/lib.macosx-11.0-arm64-cpython-311/mujoco/glfw\n",
      "  \u001b[31m   \u001b[0m running build_ext\n",
      "  \u001b[31m   \u001b[0m Traceback (most recent call last):\n",
      "  \u001b[31m   \u001b[0m   File \"<string>\", line 2, in <module>\n",
      "  \u001b[31m   \u001b[0m   File \"<pip-setuptools-caller>\", line 34, in <module>\n",
      "  \u001b[31m   \u001b[0m   File \"/private/var/folders/w8/b_cflrn97k9c15rcrn5t8mmr0000gn/T/pip-install-ckdj1ir6/mujoco_c8a734e775d74a5aa7f5654ba9b00417/setup.py\", line 292, in <module>\n",
      "  \u001b[31m   \u001b[0m     setup(\n",
      "  \u001b[31m   \u001b[0m   File \"/Users/genereux/Documents/UM6P/COURS-S3/REINFORCEMENT-LEARNING/RLs/.rl_env/lib/python3.11/site-packages/setuptools/__init__.py\", line 87, in setup\n",
      "  \u001b[31m   \u001b[0m     return distutils.core.setup(**attrs)\n",
      "  \u001b[31m   \u001b[0m            ^^^^^^^^^^^^^^^^^^^^^^^^^^^^^\n",
      "  \u001b[31m   \u001b[0m   File \"/Users/genereux/Documents/UM6P/COURS-S3/REINFORCEMENT-LEARNING/RLs/.rl_env/lib/python3.11/site-packages/setuptools/_distutils/core.py\", line 185, in setup\n",
      "  \u001b[31m   \u001b[0m     return run_commands(dist)\n",
      "  \u001b[31m   \u001b[0m            ^^^^^^^^^^^^^^^^^^\n",
      "  \u001b[31m   \u001b[0m   File \"/Users/genereux/Documents/UM6P/COURS-S3/REINFORCEMENT-LEARNING/RLs/.rl_env/lib/python3.11/site-packages/setuptools/_distutils/core.py\", line 201, in run_commands\n",
      "  \u001b[31m   \u001b[0m     dist.run_commands()\n",
      "  \u001b[31m   \u001b[0m   File \"/Users/genereux/Documents/UM6P/COURS-S3/REINFORCEMENT-LEARNING/RLs/.rl_env/lib/python3.11/site-packages/setuptools/_distutils/dist.py\", line 968, in run_commands\n",
      "  \u001b[31m   \u001b[0m     self.run_command(cmd)\n",
      "  \u001b[31m   \u001b[0m   File \"/Users/genereux/Documents/UM6P/COURS-S3/REINFORCEMENT-LEARNING/RLs/.rl_env/lib/python3.11/site-packages/setuptools/dist.py\", line 1217, in run_command\n",
      "  \u001b[31m   \u001b[0m     super().run_command(command)\n",
      "  \u001b[31m   \u001b[0m   File \"/Users/genereux/Documents/UM6P/COURS-S3/REINFORCEMENT-LEARNING/RLs/.rl_env/lib/python3.11/site-packages/setuptools/_distutils/dist.py\", line 987, in run_command\n",
      "  \u001b[31m   \u001b[0m     cmd_obj.run()\n",
      "  \u001b[31m   \u001b[0m   File \"/Users/genereux/Documents/UM6P/COURS-S3/REINFORCEMENT-LEARNING/RLs/.rl_env/lib/python3.11/site-packages/wheel/_bdist_wheel.py\", line 387, in run\n",
      "  \u001b[31m   \u001b[0m     self.run_command(\"build\")\n",
      "  \u001b[31m   \u001b[0m   File \"/Users/genereux/Documents/UM6P/COURS-S3/REINFORCEMENT-LEARNING/RLs/.rl_env/lib/python3.11/site-packages/setuptools/_distutils/cmd.py\", line 319, in run_command\n",
      "  \u001b[31m   \u001b[0m     self.distribution.run_command(command)\n",
      "  \u001b[31m   \u001b[0m   File \"/Users/genereux/Documents/UM6P/COURS-S3/REINFORCEMENT-LEARNING/RLs/.rl_env/lib/python3.11/site-packages/setuptools/dist.py\", line 1217, in run_command\n",
      "  \u001b[31m   \u001b[0m     super().run_command(command)\n",
      "  \u001b[31m   \u001b[0m   File \"/Users/genereux/Documents/UM6P/COURS-S3/REINFORCEMENT-LEARNING/RLs/.rl_env/lib/python3.11/site-packages/setuptools/_distutils/dist.py\", line 987, in run_command\n",
      "  \u001b[31m   \u001b[0m     cmd_obj.run()\n",
      "  \u001b[31m   \u001b[0m   File \"/Users/genereux/Documents/UM6P/COURS-S3/REINFORCEMENT-LEARNING/RLs/.rl_env/lib/python3.11/site-packages/setuptools/_distutils/command/build.py\", line 132, in run\n",
      "  \u001b[31m   \u001b[0m     self.run_command(cmd_name)\n",
      "  \u001b[31m   \u001b[0m   File \"/Users/genereux/Documents/UM6P/COURS-S3/REINFORCEMENT-LEARNING/RLs/.rl_env/lib/python3.11/site-packages/setuptools/_distutils/cmd.py\", line 319, in run_command\n",
      "  \u001b[31m   \u001b[0m     self.distribution.run_command(command)\n",
      "  \u001b[31m   \u001b[0m   File \"/Users/genereux/Documents/UM6P/COURS-S3/REINFORCEMENT-LEARNING/RLs/.rl_env/lib/python3.11/site-packages/setuptools/dist.py\", line 1217, in run_command\n",
      "  \u001b[31m   \u001b[0m     super().run_command(command)\n",
      "  \u001b[31m   \u001b[0m   File \"/Users/genereux/Documents/UM6P/COURS-S3/REINFORCEMENT-LEARNING/RLs/.rl_env/lib/python3.11/site-packages/setuptools/_distutils/dist.py\", line 987, in run_command\n",
      "  \u001b[31m   \u001b[0m     cmd_obj.run()\n",
      "  \u001b[31m   \u001b[0m   File \"/private/var/folders/w8/b_cflrn97k9c15rcrn5t8mmr0000gn/T/pip-install-ckdj1ir6/mujoco_c8a734e775d74a5aa7f5654ba9b00417/setup.py\", line 154, in run\n",
      "  \u001b[31m   \u001b[0m     self._mujoco_framework_path) = self._find_mujoco()\n",
      "  \u001b[31m   \u001b[0m                                    ^^^^^^^^^^^^^^^^^^^\n",
      "  \u001b[31m   \u001b[0m   File \"/private/var/folders/w8/b_cflrn97k9c15rcrn5t8mmr0000gn/T/pip-install-ckdj1ir6/mujoco_c8a734e775d74a5aa7f5654ba9b00417/setup.py\", line 166, in _find_mujoco\n",
      "  \u001b[31m   \u001b[0m     raise RuntimeError(\n",
      "  \u001b[31m   \u001b[0m RuntimeError: MUJOCO_PATH environment variable is not set\n",
      "  \u001b[31m   \u001b[0m \u001b[31m[end of output]\u001b[0m\n",
      "  \n",
      "  \u001b[1;35mnote\u001b[0m: This error originates from a subprocess, and is likely not a problem with pip.\n",
      "\u001b[31m  ERROR: Failed building wheel for mujoco\u001b[0m\u001b[31m\n",
      "\u001b[0m\u001b[?25h  Running setup.py clean for mujoco\n",
      "Failed to build mujoco\n",
      "\u001b[31mERROR: Could not build wheels for mujoco, which is required to install pyproject.toml-based projects\u001b[0m\u001b[31m\n",
      "\u001b[0m\n",
      "\u001b[1m[\u001b[0m\u001b[34;49mnotice\u001b[0m\u001b[1;39;49m]\u001b[0m\u001b[39;49m A new release of pip is available: \u001b[0m\u001b[31;49m24.0\u001b[0m\u001b[39;49m -> \u001b[0m\u001b[32;49m24.3.1\u001b[0m\n",
      "\u001b[1m[\u001b[0m\u001b[34;49mnotice\u001b[0m\u001b[1;39;49m]\u001b[0m\u001b[39;49m To update, run: \u001b[0m\u001b[32;49mpip install --upgrade pip\u001b[0m\n",
      "Requirement already satisfied: imageio in /Users/genereux/Documents/UM6P/COURS-S3/REINFORCEMENT-LEARNING/RLs/.rl_env/lib/python3.11/site-packages (2.36.1)\n",
      "Requirement already satisfied: numpy in /Users/genereux/Documents/UM6P/COURS-S3/REINFORCEMENT-LEARNING/RLs/.rl_env/lib/python3.11/site-packages (from imageio) (1.26.4)\n",
      "Requirement already satisfied: pillow>=8.3.2 in /Users/genereux/Documents/UM6P/COURS-S3/REINFORCEMENT-LEARNING/RLs/.rl_env/lib/python3.11/site-packages (from imageio) (11.0.0)\n",
      "\n",
      "\u001b[1m[\u001b[0m\u001b[34;49mnotice\u001b[0m\u001b[1;39;49m]\u001b[0m\u001b[39;49m A new release of pip is available: \u001b[0m\u001b[31;49m24.0\u001b[0m\u001b[39;49m -> \u001b[0m\u001b[32;49m24.3.1\u001b[0m\n",
      "\u001b[1m[\u001b[0m\u001b[34;49mnotice\u001b[0m\u001b[1;39;49m]\u001b[0m\u001b[39;49m To update, run: \u001b[0m\u001b[32;49mpip install --upgrade pip\u001b[0m\n"
     ]
    }
   ],
   "source": [
    "#!pip install mujoco\n",
    "!pip install mujoco==2.3.0\n",
    "!pip install imageio"
   ]
  },
  {
   "cell_type": "code",
   "execution_count": 6,
   "metadata": {},
   "outputs": [],
   "source": [
    "import gym\n",
    "import numpy as np"
   ]
  },
  {
   "cell_type": "code",
   "execution_count": 7,
   "metadata": {},
   "outputs": [
    {
     "ename": "AttributeError",
     "evalue": "'mujoco._structs.MjData' object has no attribute 'solver_iter'",
     "output_type": "error",
     "traceback": [
      "\u001b[0;31m---------------------------------------------------------------------------\u001b[0m",
      "\u001b[0;31mAttributeError\u001b[0m                            Traceback (most recent call last)",
      "Cell \u001b[0;32mIn[7], line 5\u001b[0m\n\u001b[1;32m      2\u001b[0m env \u001b[38;5;241m=\u001b[39m gym\u001b[38;5;241m.\u001b[39mmake(\u001b[38;5;124m\"\u001b[39m\u001b[38;5;124mAnt-v4\u001b[39m\u001b[38;5;124m\"\u001b[39m, render_mode\u001b[38;5;241m=\u001b[39m\u001b[38;5;124m\"\u001b[39m\u001b[38;5;124mhuman\u001b[39m\u001b[38;5;124m\"\u001b[39m)\n\u001b[1;32m      4\u001b[0m \u001b[38;5;66;03m# Initialize the environment\u001b[39;00m\n\u001b[0;32m----> 5\u001b[0m obs \u001b[38;5;241m=\u001b[39m \u001b[43menv\u001b[49m\u001b[38;5;241;43m.\u001b[39;49m\u001b[43mreset\u001b[49m\u001b[43m(\u001b[49m\u001b[43m)\u001b[49m\n\u001b[1;32m      7\u001b[0m \u001b[38;5;66;03m# Simulation loop\u001b[39;00m\n\u001b[1;32m      8\u001b[0m \u001b[38;5;28;01mtry\u001b[39;00m:\n",
      "File \u001b[0;32m~/Documents/UM6P/COURS-S3/REINFORCEMENT-LEARNING/RLs/.rl_env/lib/python3.11/site-packages/gym/wrappers/time_limit.py:68\u001b[0m, in \u001b[0;36mTimeLimit.reset\u001b[0;34m(self, **kwargs)\u001b[0m\n\u001b[1;32m     59\u001b[0m \u001b[38;5;250m\u001b[39m\u001b[38;5;124;03m\"\"\"Resets the environment with :param:`**kwargs` and sets the number of steps elapsed to zero.\u001b[39;00m\n\u001b[1;32m     60\u001b[0m \n\u001b[1;32m     61\u001b[0m \u001b[38;5;124;03mArgs:\u001b[39;00m\n\u001b[0;32m   (...)\u001b[0m\n\u001b[1;32m     65\u001b[0m \u001b[38;5;124;03m    The reset environment\u001b[39;00m\n\u001b[1;32m     66\u001b[0m \u001b[38;5;124;03m\"\"\"\u001b[39;00m\n\u001b[1;32m     67\u001b[0m \u001b[38;5;28mself\u001b[39m\u001b[38;5;241m.\u001b[39m_elapsed_steps \u001b[38;5;241m=\u001b[39m \u001b[38;5;241m0\u001b[39m\n\u001b[0;32m---> 68\u001b[0m \u001b[38;5;28;01mreturn\u001b[39;00m \u001b[38;5;28;43mself\u001b[39;49m\u001b[38;5;241;43m.\u001b[39;49m\u001b[43menv\u001b[49m\u001b[38;5;241;43m.\u001b[39;49m\u001b[43mreset\u001b[49m\u001b[43m(\u001b[49m\u001b[38;5;241;43m*\u001b[39;49m\u001b[38;5;241;43m*\u001b[39;49m\u001b[43mkwargs\u001b[49m\u001b[43m)\u001b[49m\n",
      "File \u001b[0;32m~/Documents/UM6P/COURS-S3/REINFORCEMENT-LEARNING/RLs/.rl_env/lib/python3.11/site-packages/gym/wrappers/order_enforcing.py:42\u001b[0m, in \u001b[0;36mOrderEnforcing.reset\u001b[0;34m(self, **kwargs)\u001b[0m\n\u001b[1;32m     40\u001b[0m \u001b[38;5;250m\u001b[39m\u001b[38;5;124;03m\"\"\"Resets the environment with `kwargs`.\"\"\"\u001b[39;00m\n\u001b[1;32m     41\u001b[0m \u001b[38;5;28mself\u001b[39m\u001b[38;5;241m.\u001b[39m_has_reset \u001b[38;5;241m=\u001b[39m \u001b[38;5;28;01mTrue\u001b[39;00m\n\u001b[0;32m---> 42\u001b[0m \u001b[38;5;28;01mreturn\u001b[39;00m \u001b[38;5;28;43mself\u001b[39;49m\u001b[38;5;241;43m.\u001b[39;49m\u001b[43menv\u001b[49m\u001b[38;5;241;43m.\u001b[39;49m\u001b[43mreset\u001b[49m\u001b[43m(\u001b[49m\u001b[38;5;241;43m*\u001b[39;49m\u001b[38;5;241;43m*\u001b[39;49m\u001b[43mkwargs\u001b[49m\u001b[43m)\u001b[49m\n",
      "File \u001b[0;32m~/Documents/UM6P/COURS-S3/REINFORCEMENT-LEARNING/RLs/.rl_env/lib/python3.11/site-packages/gym/wrappers/env_checker.py:45\u001b[0m, in \u001b[0;36mPassiveEnvChecker.reset\u001b[0;34m(self, **kwargs)\u001b[0m\n\u001b[1;32m     43\u001b[0m \u001b[38;5;28;01mif\u001b[39;00m \u001b[38;5;28mself\u001b[39m\u001b[38;5;241m.\u001b[39mchecked_reset \u001b[38;5;129;01mis\u001b[39;00m \u001b[38;5;28;01mFalse\u001b[39;00m:\n\u001b[1;32m     44\u001b[0m     \u001b[38;5;28mself\u001b[39m\u001b[38;5;241m.\u001b[39mchecked_reset \u001b[38;5;241m=\u001b[39m \u001b[38;5;28;01mTrue\u001b[39;00m\n\u001b[0;32m---> 45\u001b[0m     \u001b[38;5;28;01mreturn\u001b[39;00m \u001b[43menv_reset_passive_checker\u001b[49m\u001b[43m(\u001b[49m\u001b[38;5;28;43mself\u001b[39;49m\u001b[38;5;241;43m.\u001b[39;49m\u001b[43menv\u001b[49m\u001b[43m,\u001b[49m\u001b[43m \u001b[49m\u001b[38;5;241;43m*\u001b[39;49m\u001b[38;5;241;43m*\u001b[39;49m\u001b[43mkwargs\u001b[49m\u001b[43m)\u001b[49m\n\u001b[1;32m     46\u001b[0m \u001b[38;5;28;01melse\u001b[39;00m:\n\u001b[1;32m     47\u001b[0m     \u001b[38;5;28;01mreturn\u001b[39;00m \u001b[38;5;28mself\u001b[39m\u001b[38;5;241m.\u001b[39menv\u001b[38;5;241m.\u001b[39mreset(\u001b[38;5;241m*\u001b[39m\u001b[38;5;241m*\u001b[39mkwargs)\n",
      "File \u001b[0;32m~/Documents/UM6P/COURS-S3/REINFORCEMENT-LEARNING/RLs/.rl_env/lib/python3.11/site-packages/gym/utils/passive_env_checker.py:192\u001b[0m, in \u001b[0;36menv_reset_passive_checker\u001b[0;34m(env, **kwargs)\u001b[0m\n\u001b[1;32m    187\u001b[0m     logger\u001b[38;5;241m.\u001b[39mwarn(\n\u001b[1;32m    188\u001b[0m         \u001b[38;5;124m\"\u001b[39m\u001b[38;5;124mFuture gym versions will require that `Env.reset` can be passed `options` to allow the environment initialisation to be passed additional information.\u001b[39m\u001b[38;5;124m\"\u001b[39m\n\u001b[1;32m    189\u001b[0m     )\n\u001b[1;32m    191\u001b[0m \u001b[38;5;66;03m# Checks the result of env.reset with kwargs\u001b[39;00m\n\u001b[0;32m--> 192\u001b[0m result \u001b[38;5;241m=\u001b[39m \u001b[43menv\u001b[49m\u001b[38;5;241;43m.\u001b[39;49m\u001b[43mreset\u001b[49m\u001b[43m(\u001b[49m\u001b[38;5;241;43m*\u001b[39;49m\u001b[38;5;241;43m*\u001b[39;49m\u001b[43mkwargs\u001b[49m\u001b[43m)\u001b[49m\n\u001b[1;32m    194\u001b[0m \u001b[38;5;28;01mif\u001b[39;00m \u001b[38;5;129;01mnot\u001b[39;00m \u001b[38;5;28misinstance\u001b[39m(result, \u001b[38;5;28mtuple\u001b[39m):\n\u001b[1;32m    195\u001b[0m     logger\u001b[38;5;241m.\u001b[39mwarn(\n\u001b[1;32m    196\u001b[0m         \u001b[38;5;124mf\u001b[39m\u001b[38;5;124m\"\u001b[39m\u001b[38;5;124mThe result returned by `env.reset()` was not a tuple of the form `(obs, info)`, where `obs` is a observation and `info` is a dictionary containing additional information. Actual type: `\u001b[39m\u001b[38;5;132;01m{\u001b[39;00m\u001b[38;5;28mtype\u001b[39m(result)\u001b[38;5;132;01m}\u001b[39;00m\u001b[38;5;124m`\u001b[39m\u001b[38;5;124m\"\u001b[39m\n\u001b[1;32m    197\u001b[0m     )\n",
      "File \u001b[0;32m~/Documents/UM6P/COURS-S3/REINFORCEMENT-LEARNING/RLs/.rl_env/lib/python3.11/site-packages/gym/envs/mujoco/mujoco_env.py:137\u001b[0m, in \u001b[0;36mBaseMujocoEnv.reset\u001b[0;34m(self, seed, options)\u001b[0m\n\u001b[1;32m    135\u001b[0m ob \u001b[38;5;241m=\u001b[39m \u001b[38;5;28mself\u001b[39m\u001b[38;5;241m.\u001b[39mreset_model()\n\u001b[1;32m    136\u001b[0m \u001b[38;5;28;01mif\u001b[39;00m \u001b[38;5;28mself\u001b[39m\u001b[38;5;241m.\u001b[39mrender_mode \u001b[38;5;241m==\u001b[39m \u001b[38;5;124m\"\u001b[39m\u001b[38;5;124mhuman\u001b[39m\u001b[38;5;124m\"\u001b[39m:\n\u001b[0;32m--> 137\u001b[0m     \u001b[38;5;28;43mself\u001b[39;49m\u001b[38;5;241;43m.\u001b[39;49m\u001b[43mrender\u001b[49m\u001b[43m(\u001b[49m\u001b[43m)\u001b[49m\n\u001b[1;32m    138\u001b[0m \u001b[38;5;28;01mreturn\u001b[39;00m ob, {}\n",
      "File \u001b[0;32m~/Documents/UM6P/COURS-S3/REINFORCEMENT-LEARNING/RLs/.rl_env/lib/python3.11/site-packages/gym/envs/mujoco/mujoco_env.py:404\u001b[0m, in \u001b[0;36mMujocoEnv.render\u001b[0;34m(self)\u001b[0m\n\u001b[1;32m    402\u001b[0m     \u001b[38;5;28;01mreturn\u001b[39;00m data[::\u001b[38;5;241m-\u001b[39m\u001b[38;5;241m1\u001b[39m, :]\n\u001b[1;32m    403\u001b[0m \u001b[38;5;28;01melif\u001b[39;00m \u001b[38;5;28mself\u001b[39m\u001b[38;5;241m.\u001b[39mrender_mode \u001b[38;5;241m==\u001b[39m \u001b[38;5;124m\"\u001b[39m\u001b[38;5;124mhuman\u001b[39m\u001b[38;5;124m\"\u001b[39m:\n\u001b[0;32m--> 404\u001b[0m     \u001b[38;5;28;43mself\u001b[39;49m\u001b[38;5;241;43m.\u001b[39;49m\u001b[43m_get_viewer\u001b[49m\u001b[43m(\u001b[49m\u001b[38;5;28;43mself\u001b[39;49m\u001b[38;5;241;43m.\u001b[39;49m\u001b[43mrender_mode\u001b[49m\u001b[43m)\u001b[49m\u001b[38;5;241;43m.\u001b[39;49m\u001b[43mrender\u001b[49m\u001b[43m(\u001b[49m\u001b[43m)\u001b[49m\n",
      "File \u001b[0;32m~/Documents/UM6P/COURS-S3/REINFORCEMENT-LEARNING/RLs/.rl_env/lib/python3.11/site-packages/gym/envs/mujoco/mujoco_rendering.py:544\u001b[0m, in \u001b[0;36mViewer.render\u001b[0;34m(self)\u001b[0m\n\u001b[1;32m    542\u001b[0m         \u001b[38;5;28mself\u001b[39m\u001b[38;5;241m.\u001b[39m_loop_count \u001b[38;5;241m=\u001b[39m \u001b[38;5;241m1\u001b[39m\n\u001b[1;32m    543\u001b[0m     \u001b[38;5;28;01mwhile\u001b[39;00m \u001b[38;5;28mself\u001b[39m\u001b[38;5;241m.\u001b[39m_loop_count \u001b[38;5;241m>\u001b[39m \u001b[38;5;241m0\u001b[39m:\n\u001b[0;32m--> 544\u001b[0m         \u001b[43mupdate\u001b[49m\u001b[43m(\u001b[49m\u001b[43m)\u001b[49m\n\u001b[1;32m    545\u001b[0m         \u001b[38;5;28mself\u001b[39m\u001b[38;5;241m.\u001b[39m_loop_count \u001b[38;5;241m-\u001b[39m\u001b[38;5;241m=\u001b[39m \u001b[38;5;241m1\u001b[39m\n\u001b[1;32m    547\u001b[0m \u001b[38;5;66;03m# clear markers\u001b[39;00m\n",
      "File \u001b[0;32m~/Documents/UM6P/COURS-S3/REINFORCEMENT-LEARNING/RLs/.rl_env/lib/python3.11/site-packages/gym/envs/mujoco/mujoco_rendering.py:484\u001b[0m, in \u001b[0;36mViewer.render.<locals>.update\u001b[0;34m()\u001b[0m\n\u001b[1;32m    482\u001b[0m \u001b[38;5;28;01mdef\u001b[39;00m \u001b[38;5;21mupdate\u001b[39m():\n\u001b[1;32m    483\u001b[0m     \u001b[38;5;66;03m# fill overlay items\u001b[39;00m\n\u001b[0;32m--> 484\u001b[0m     \u001b[38;5;28;43mself\u001b[39;49m\u001b[38;5;241;43m.\u001b[39;49m\u001b[43m_create_overlay\u001b[49m\u001b[43m(\u001b[49m\u001b[43m)\u001b[49m\n\u001b[1;32m    486\u001b[0m     render_start \u001b[38;5;241m=\u001b[39m time\u001b[38;5;241m.\u001b[39mtime()\n\u001b[1;32m    487\u001b[0m     \u001b[38;5;28;01mif\u001b[39;00m \u001b[38;5;28mself\u001b[39m\u001b[38;5;241m.\u001b[39mwindow \u001b[38;5;129;01mis\u001b[39;00m \u001b[38;5;28;01mNone\u001b[39;00m:\n",
      "File \u001b[0;32m~/Documents/UM6P/COURS-S3/REINFORCEMENT-LEARNING/RLs/.rl_env/lib/python3.11/site-packages/gym/envs/mujoco/mujoco_rendering.py:473\u001b[0m, in \u001b[0;36mViewer._create_overlay\u001b[0;34m(self)\u001b[0m\n\u001b[1;32m    469\u001b[0m \u001b[38;5;28mself\u001b[39m\u001b[38;5;241m.\u001b[39madd_overlay(topleft, \u001b[38;5;124m\"\u001b[39m\u001b[38;5;124mToggle geomgroup visibility\u001b[39m\u001b[38;5;124m\"\u001b[39m, \u001b[38;5;124m\"\u001b[39m\u001b[38;5;124m0-4\u001b[39m\u001b[38;5;124m\"\u001b[39m)\n\u001b[1;32m    471\u001b[0m \u001b[38;5;28mself\u001b[39m\u001b[38;5;241m.\u001b[39madd_overlay(bottomleft, \u001b[38;5;124m\"\u001b[39m\u001b[38;5;124mFPS\u001b[39m\u001b[38;5;124m\"\u001b[39m, \u001b[38;5;124m\"\u001b[39m\u001b[38;5;132;01m%d\u001b[39;00m\u001b[38;5;132;01m%s\u001b[39;00m\u001b[38;5;124m\"\u001b[39m \u001b[38;5;241m%\u001b[39m (\u001b[38;5;241m1\u001b[39m \u001b[38;5;241m/\u001b[39m \u001b[38;5;28mself\u001b[39m\u001b[38;5;241m.\u001b[39m_time_per_render, \u001b[38;5;124m\"\u001b[39m\u001b[38;5;124m\"\u001b[39m))\n\u001b[1;32m    472\u001b[0m \u001b[38;5;28mself\u001b[39m\u001b[38;5;241m.\u001b[39madd_overlay(\n\u001b[0;32m--> 473\u001b[0m     bottomleft, \u001b[38;5;124m\"\u001b[39m\u001b[38;5;124mSolver iterations\u001b[39m\u001b[38;5;124m\"\u001b[39m, \u001b[38;5;28mstr\u001b[39m(\u001b[38;5;28;43mself\u001b[39;49m\u001b[38;5;241;43m.\u001b[39;49m\u001b[43mdata\u001b[49m\u001b[38;5;241;43m.\u001b[39;49m\u001b[43msolver_iter\u001b[49m \u001b[38;5;241m+\u001b[39m \u001b[38;5;241m1\u001b[39m)\n\u001b[1;32m    474\u001b[0m )\n\u001b[1;32m    475\u001b[0m \u001b[38;5;28mself\u001b[39m\u001b[38;5;241m.\u001b[39madd_overlay(\n\u001b[1;32m    476\u001b[0m     bottomleft, \u001b[38;5;124m\"\u001b[39m\u001b[38;5;124mStep\u001b[39m\u001b[38;5;124m\"\u001b[39m, \u001b[38;5;28mstr\u001b[39m(\u001b[38;5;28mround\u001b[39m(\u001b[38;5;28mself\u001b[39m\u001b[38;5;241m.\u001b[39mdata\u001b[38;5;241m.\u001b[39mtime \u001b[38;5;241m/\u001b[39m \u001b[38;5;28mself\u001b[39m\u001b[38;5;241m.\u001b[39mmodel\u001b[38;5;241m.\u001b[39mopt\u001b[38;5;241m.\u001b[39mtimestep))\n\u001b[1;32m    477\u001b[0m )\n\u001b[1;32m    478\u001b[0m \u001b[38;5;28mself\u001b[39m\u001b[38;5;241m.\u001b[39madd_overlay(bottomleft, \u001b[38;5;124m\"\u001b[39m\u001b[38;5;124mtimestep\u001b[39m\u001b[38;5;124m\"\u001b[39m, \u001b[38;5;124m\"\u001b[39m\u001b[38;5;132;01m%.5f\u001b[39;00m\u001b[38;5;124m\"\u001b[39m \u001b[38;5;241m%\u001b[39m \u001b[38;5;28mself\u001b[39m\u001b[38;5;241m.\u001b[39mmodel\u001b[38;5;241m.\u001b[39mopt\u001b[38;5;241m.\u001b[39mtimestep)\n",
      "\u001b[0;31mAttributeError\u001b[0m: 'mujoco._structs.MjData' object has no attribute 'solver_iter'"
     ]
    }
   ],
   "source": [
    "# Create the Ant environment\n",
    "env = gym.make(\"Ant-v4\", render_mode=\"human\")\n",
    "\n",
    "# Initialize the environment\n",
    "obs = env.reset()\n",
    "\n",
    "# Simulation loop\n",
    "try:\n",
    "    for _ in range(1000):  # Simulate for 1000 steps\n",
    "        env.render()  # Render the environment\n",
    "\n",
    "        # Sample a random action\n",
    "        action = env.action_space.sample()\n",
    "\n",
    "        # Take a step in the environment\n",
    "        obs, reward, done, info = env.step(action)\n",
    "\n",
    "        # Print observations and reward (optional)\n",
    "        print(f\"Observation: {obs}\")\n",
    "        print(f\"Reward: {reward}\")\n",
    "\n",
    "        if done:\n",
    "            print(\"Episode finished\")\n",
    "            break\n",
    "\n",
    "finally:\n",
    "    env.close()  # Close the environment when done"
   ]
  },
  {
   "cell_type": "code",
   "execution_count": null,
   "metadata": {},
   "outputs": [],
   "source": []
  }
 ],
 "metadata": {
  "kernelspec": {
   "display_name": ".rl_env",
   "language": "python",
   "name": "python3"
  },
  "language_info": {
   "codemirror_mode": {
    "name": "ipython",
    "version": 3
   },
   "file_extension": ".py",
   "mimetype": "text/x-python",
   "name": "python",
   "nbconvert_exporter": "python",
   "pygments_lexer": "ipython3",
   "version": "3.11.8"
  },
  "orig_nbformat": 4
 },
 "nbformat": 4,
 "nbformat_minor": 2
}
